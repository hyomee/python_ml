{
  "nbformat": 4,
  "nbformat_minor": 0,
  "metadata": {
    "colab": {
      "provenance": [],
      "toc_visible": true,
      "authorship_tag": "ABX9TyMfKqoMAlZtLWEjd4Ou8FgU",
      "include_colab_link": true
    },
    "kernelspec": {
      "name": "python3",
      "display_name": "Python 3"
    },
    "language_info": {
      "name": "python"
    }
  },
  "cells": [
    {
      "cell_type": "markdown",
      "metadata": {
        "id": "view-in-github",
        "colab_type": "text"
      },
      "source": [
        "<a href=\"https://colab.research.google.com/github/hyomee/python_ml/blob/main/hyomee.ipynb\" target=\"_parent\"><img src=\"https://colab.research.google.com/assets/colab-badge.svg\" alt=\"Open In Colab\"/></a>"
      ]
    },
    {
      "cell_type": "markdown",
      "source": [
        "코랩을 사용한 파이션 실행"
      ],
      "metadata": {
        "id": "2tjuCMo8D3U5"
      }
    },
    {
      "cell_type": "code",
      "source": [
        "print(\"파이션 실행\")"
      ],
      "metadata": {
        "colab": {
          "base_uri": "https://localhost:8080/"
        },
        "id": "WQxsAKvzD78q",
        "outputId": "4efe5c04-7662-4a7c-d017-7317db3dd382"
      },
      "execution_count": null,
      "outputs": [
        {
          "output_type": "stream",
          "name": "stdout",
          "text": [
            "파이션 실행\n"
          ]
        }
      ]
    },
    {
      "cell_type": "markdown",
      "source": [],
      "metadata": {
        "id": "2P4uac8XEA4I"
      }
    },
    {
      "cell_type": "code",
      "source": [
        "import sys\n",
        "\n",
        "# 노트북이 코랩에서 실행 중인지 체크합니다.\n",
        "if 'google.colab' in sys.modules:\n",
        "     !echo 'debconf debconf/frontend select Noninteractive' | debconf-set-selections\n",
        "     # 나눔 폰트를 설치합니다.\n",
        "     !sudo apt-get -qq -y install fonts-nanum\n",
        "     import matplotlib.font_manager as fm\n",
        "     font_files = fm.findSystemFonts(fontpaths=['/usr/share/fonts/truetype/nanum'])\n",
        "     for fpath in font_files:\n",
        "         fm.fontManager.addfont(fpath)\n",
        "\n",
        "     # 나눔바른고딕 폰트로 설정합니다.\n",
        "     import matplotlib.pyplot as plt\n",
        "     plt.rc('font', family='NanumBarunGothic')\n",
        "     # 마이너스 기호 표시 오류 수정\n",
        "     import matplotlib\n",
        "     matplotlib.rcParams['axes.unicode_minus'] = False"
      ],
      "metadata": {
        "id": "_IIMh9EPD-3S",
        "colab": {
          "base_uri": "https://localhost:8080/"
        },
        "outputId": "3f0f83ea-2e9f-4a8e-c325-f0420ea8434f"
      },
      "execution_count": 1,
      "outputs": [
        {
          "output_type": "stream",
          "name": "stdout",
          "text": [
            "Selecting previously unselected package fonts-nanum.\n",
            "(Reading database ... 120875 files and directories currently installed.)\n",
            "Preparing to unpack .../fonts-nanum_20200506-1_all.deb ...\n",
            "Unpacking fonts-nanum (20200506-1) ...\n",
            "Setting up fonts-nanum (20200506-1) ...\n",
            "Processing triggers for fontconfig (2.13.1-4.2ubuntu5) ...\n"
          ]
        }
      ]
    },
    {
      "cell_type": "markdown",
      "source": [
        "한글 테스트"
      ],
      "metadata": {
        "id": "CX1N3i9tGoP_"
      }
    },
    {
      "cell_type": "code",
      "source": [
        "print(\"한글 테이스\")"
      ],
      "metadata": {
        "id": "Ti2STjAeGwMD",
        "outputId": "fb8e8555-0d69-4085-885b-8dad9316b891",
        "colab": {
          "base_uri": "https://localhost:8080/"
        }
      },
      "execution_count": 2,
      "outputs": [
        {
          "output_type": "stream",
          "name": "stdout",
          "text": [
            "한글 테이스\n"
          ]
        }
      ]
    },
    {
      "cell_type": "markdown",
      "source": [
        "파이션 3.7 및 Scikit-Learn ≥1.0.1 체크"
      ],
      "metadata": {
        "id": "FsSkcZHrHBiv"
      }
    },
    {
      "cell_type": "code",
      "source": [
        "import sys\n",
        "\n",
        "assert sys.version_info >= (3, 7)\n",
        "\n",
        "from packaging import version\n",
        "import sklearn\n",
        "assert version.parse(sklearn.__version__) >= version.parse(\"1.0.1\")\n"
      ],
      "metadata": {
        "id": "cqBAf-FoG80n"
      },
      "execution_count": 7,
      "outputs": []
    },
    {
      "cell_type": "markdown",
      "source": [
        "데이터 가져오기"
      ],
      "metadata": {
        "id": "PMMETmiLHoQI"
      }
    },
    {
      "cell_type": "code",
      "source": [],
      "metadata": {
        "id": "DUyHanNaHmrb"
      },
      "execution_count": null,
      "outputs": []
    }
  ]
}