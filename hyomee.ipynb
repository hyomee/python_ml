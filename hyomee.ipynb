{
  "nbformat": 4,
  "nbformat_minor": 0,
  "metadata": {
    "colab": {
      "provenance": [],
      "toc_visible": true,
      "authorship_tag": "ABX9TyNt89V5pAkSnBsy74UXoIMk",
      "include_colab_link": true
    },
    "kernelspec": {
      "name": "python3",
      "display_name": "Python 3"
    },
    "language_info": {
      "name": "python"
    }
  },
  "cells": [
    {
      "cell_type": "markdown",
      "metadata": {
        "id": "view-in-github",
        "colab_type": "text"
      },
      "source": [
        "<a href=\"https://colab.research.google.com/github/hyomee/python_ml/blob/main/hyomee.ipynb\" target=\"_parent\"><img src=\"https://colab.research.google.com/assets/colab-badge.svg\" alt=\"Open In Colab\"/></a>"
      ]
    },
    {
      "cell_type": "markdown",
      "source": [
        "코랩을 사용한 파이션 실행"
      ],
      "metadata": {
        "id": "2tjuCMo8D3U5"
      }
    },
    {
      "cell_type": "code",
      "source": [
        "print(\"파이션 실행\")"
      ],
      "metadata": {
        "colab": {
          "base_uri": "https://localhost:8080/"
        },
        "id": "WQxsAKvzD78q",
        "outputId": "4efe5c04-7662-4a7c-d017-7317db3dd382"
      },
      "execution_count": null,
      "outputs": [
        {
          "output_type": "stream",
          "name": "stdout",
          "text": [
            "파이션 실행\n"
          ]
        }
      ]
    },
    {
      "cell_type": "markdown",
      "source": [],
      "metadata": {
        "id": "2P4uac8XEA4I"
      }
    },
    {
      "cell_type": "code",
      "source": [],
      "metadata": {
        "id": "_IIMh9EPD-3S"
      },
      "execution_count": null,
      "outputs": []
    }
  ]
}